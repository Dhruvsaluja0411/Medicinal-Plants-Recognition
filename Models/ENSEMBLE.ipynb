{
  "nbformat": 4,
  "nbformat_minor": 0,
  "metadata": {
    "colab": {
      "provenance": []
    },
    "kernelspec": {
      "name": "python3",
      "display_name": "Python 3"
    },
    "language_info": {
      "name": "python"
    }
  },
  "cells": [
    {
      "cell_type": "code",
      "execution_count": 16,
      "metadata": {
        "id": "dERd0xoIHk9t"
      },
      "outputs": [],
      "source": [
        "import tensorflow as tf\n",
        "from tensorflow.keras.applications import DenseNet121, DenseNet169, DenseNet201\n",
        "from tensorflow.keras.layers import GlobalAveragePooling2D, Dense\n",
        "from tensorflow.keras.models import Sequential\n",
        "from tensorflow.keras.optimizers import Adam\n",
        "from tensorflow.keras.preprocessing import image\n",
        "import numpy as np"
      ]
    },
    {
      "cell_type": "code",
      "source": [
        "# Create a mapping between class indices and plant names\n",
        "class_mapping = {\n",
        "    0: 'Aloevera',\n",
        "    1: 'Amla',\n",
        "    2: 'Amruta Balli',\n",
        "    3: 'Arali',\n",
        "    4: 'Ashoka',\n",
        "    5: 'Ashwagandha',\n",
        "    6: 'Avacado',\n",
        "    7: 'Bamboo',\n",
        "    8: 'Basale',\n",
        "    9: 'Betel',\n",
        "    10: 'Betel_Nut',\n",
        "    11: 'Brahmi',\n",
        "    12: 'Castor',\n",
        "    13: 'Curry Leaf',\n",
        "    14: 'Doddapatre',\n",
        "    15: 'Ekka',\n",
        "    16: 'Ganike',\n",
        "    17: 'Gauva',\n",
        "    18: 'Geranium',\n",
        "    19: 'Henna',\n",
        "    20: 'Hibiscus',\n",
        "    21: 'Honge',\n",
        "    22: 'Insulin',\n",
        "    23: 'Jasmine',\n",
        "    24: 'Lemon',\n",
        "    25: 'Lemon_grass',\n",
        "    26: 'Mango',\n",
        "    27: 'Mint',\n",
        "    28: 'Nagadali',\n",
        "    29: 'Neem',\n",
        "    30: 'Nithyapushpa',\n",
        "    31: 'Nooni',\n",
        "    32: 'Pappaya',\n",
        "    33: 'Pepper',\n",
        "    34: 'Pomegranate',\n",
        "    35: 'Raktachandini',\n",
        "    36: 'Rose',\n",
        "    37: 'Sapota',\n",
        "    38: 'Tulasi',\n",
        "    39: 'Wood_sorel',\n",
        "    # Add mappings for all 40 classes here\n",
        "}"
      ],
      "metadata": {
        "id": "YXs9ehbmfIBn"
      },
      "execution_count": 24,
      "outputs": []
    },
    {
      "cell_type": "code",
      "source": [
        "# Define input shape (modify this according to your input data)\n",
        "input_shape = (150, 150, 3)  # Assuming input images are 224x224 RGB images\n",
        "num_classes = 40  # Define the number of classes in your dataset\n"
      ],
      "metadata": {
        "id": "OU9iFowaHt5h"
      },
      "execution_count": 17,
      "outputs": []
    },
    {
      "cell_type": "code",
      "source": [
        "\n",
        "# Load the trained models for inference\n",
        "loaded_model_201 = tf.keras.models.load_model('plant_classification_model_DenseNet121.h5')\n",
        "loaded_model_169 = tf.keras.models.load_model('plant_classification_model_DenseNet169.h5')\n",
        "loaded_model_121 = tf.keras.models.load_model('plant_classification_model_DenseNet201.h5')\n"
      ],
      "metadata": {
        "id": "0KQ5w-NRH1a_"
      },
      "execution_count": 19,
      "outputs": []
    },
    {
      "cell_type": "code",
      "source": [
        "\n",
        "# Define a function for ensemble prediction\n",
        "def predict_plant_ensemble(image_path):\n",
        "    img = image.load_img(image_path, target_size=(150, 150))\n",
        "    img_array = image.img_to_array(img)\n",
        "    img_array = np.expand_dims(img_array, axis=0)\n",
        "    img_array /= 255.0\n",
        "\n",
        "    # Predict with each model\n",
        "    prediction_201 = loaded_model_201.predict(img_array)\n",
        "    prediction_169 = loaded_model_169.predict(img_array)\n",
        "    prediction_121 = loaded_model_121.predict(img_array)\n",
        "\n",
        "    # Combine predictions (e.g., simple averaging)\n",
        "    ensemble_prediction = (prediction_201 + prediction_169 + prediction_121) / 3.0\n",
        "\n",
        "    # Get the predicted class index\n",
        "    class_index = np.argmax(ensemble_prediction)\n",
        "\n",
        "    # Map the class index to plant name\n",
        "    plant_name = class_mapping.get(class_index, 'Unknown Plant')\n",
        "\n",
        "    # Get the confidence level\n",
        "    confidence = ensemble_prediction[0, class_index]\n",
        "\n",
        "    return plant_name, confidence\n",
        "\n"
      ],
      "metadata": {
        "id": "ogmo3pLBH5z5"
      },
      "execution_count": 31,
      "outputs": []
    },
    {
      "cell_type": "code",
      "source": [
        "# Example usage:\n",
        "image_path = '/content/test5.jpeg'\n",
        "predicted_plant, confidence = predict_plant_ensemble(image_path)\n",
        "print(f\"Predicted plant: {predicted_plant}\")\n",
        "print(f\"Confidence level: {confidence * 100:.2f}%\")"
      ],
      "metadata": {
        "colab": {
          "base_uri": "https://localhost:8080/"
        },
        "id": "CQgJVnQ3H70R",
        "outputId": "dc629223-d414-4390-ab2c-243141be63c8"
      },
      "execution_count": 38,
      "outputs": [
        {
          "output_type": "stream",
          "name": "stdout",
          "text": [
            "1/1 [==============================] - 0s 89ms/step\n",
            "1/1 [==============================] - 0s 105ms/step\n",
            "1/1 [==============================] - 0s 138ms/step\n",
            "Predicted plant: Nooni\n",
            "Confidence level: 21.68%\n"
          ]
        }
      ]
    }
  ]
}